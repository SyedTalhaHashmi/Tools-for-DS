{
 "cells": [
  {
   "cell_type": "markdown",
   "id": "46f9e015",
   "metadata": {},
   "source": [
    "# (Data Science Tools and Ecosystem)"
   ]
  },
  {
   "cell_type": "markdown",
   "id": "034c3f63",
   "metadata": {},
   "source": [
    "In this notebook, Data Science Tools and Ecosystem are summarized."
   ]
  },
  {
   "cell_type": "markdown",
   "id": "0cfd5640",
   "metadata": {},
   "source": [
    "Some of the popular languages that Data Scientists use are:\n",
    "1. Python\n",
    "2. R languages\n",
    "3. MYSQL"
   ]
  },
  {
   "cell_type": "markdown",
   "id": "c82adfdd",
   "metadata": {},
   "source": [
    "Some of the commonly used libraries used by Data Scientists include:\n",
    "1. NumPy\n",
    "2. Pandas\n",
    "3. Matplotlib"
   ]
  },
  {
   "cell_type": "markdown",
   "id": "048f6b60",
   "metadata": {},
   "source": [
    "1. Data Science Tools\n",
    "  1. Excel\n",
    "  2. Python\n",
    "  3. Tableau"
   ]
  },
  {
   "cell_type": "markdown",
   "id": "5fff0827",
   "metadata": {},
   "source": [
    "### (Below are a few examples of evaluating arithmetic expressions in Python)"
   ]
  },
  {
   "cell_type": "code",
   "execution_count": 1,
   "id": "c379f139",
   "metadata": {},
   "outputs": [
    {
     "data": {
      "text/plain": [
       "17"
      ]
     },
     "execution_count": 1,
     "metadata": {},
     "output_type": "execute_result"
    }
   ],
   "source": [
    "#This a simple arithmetic expression to mutiply then add integers\n",
    "(3*4)+5"
   ]
  },
  {
   "cell_type": "code",
   "execution_count": 2,
   "id": "cbfa7683",
   "metadata": {},
   "outputs": [
    {
     "data": {
      "text/plain": [
       "3.3333333333333335"
      ]
     },
     "execution_count": 2,
     "metadata": {},
     "output_type": "execute_result"
    }
   ],
   "source": [
    "#This will convert 200 minutes to hours by diving by 60\n",
    "200 / 60"
   ]
  },
  {
   "cell_type": "markdown",
   "id": "84e77b48",
   "metadata": {},
   "source": [
    "Objectives:\n",
    "* Python.\n",
    "* R.\n",
    "* SQL.\n",
    "* Java.\n",
    "* Julia."
   ]
  },
  {
   "cell_type": "markdown",
   "id": "7b415f63",
   "metadata": {},
   "source": [
    "## Author\n",
    "HAFIZ TALHA BIN SOHAIL\n"
   ]
  }
 ],
 "metadata": {
  "kernelspec": {
   "display_name": "Python 3 (ipykernel)",
   "language": "python",
   "name": "python3"
  },
  "language_info": {
   "codemirror_mode": {
    "name": "ipython",
    "version": 3
   },
   "file_extension": ".py",
   "mimetype": "text/x-python",
   "name": "python",
   "nbconvert_exporter": "python",
   "pygments_lexer": "ipython3",
   "version": "3.10.9"
  }
 },
 "nbformat": 4,
 "nbformat_minor": 5
}
